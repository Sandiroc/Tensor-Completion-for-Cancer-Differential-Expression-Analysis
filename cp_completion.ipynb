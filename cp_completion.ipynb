{
 "cells": [
  {
   "cell_type": "code",
   "execution_count": 35,
   "id": "35ce5f43",
   "metadata": {},
   "outputs": [],
   "source": [
    "import torch\n",
    "import tensorly as tl\n",
    "from tensorly.decomposition import parafac\n",
    "from tensorly.cp_tensor import cp_to_tensor\n",
    "import numpy as np\n",
    "import matplotlib.pyplot as plt\n",
    "from sklearn.metrics import mean_squared_error, mean_absolute_error\n",
    "import random"
   ]
  },
  {
   "cell_type": "code",
   "execution_count": 36,
   "id": "15cb6f58",
   "metadata": {},
   "outputs": [],
   "source": [
    "tl.set_backend('pytorch')"
   ]
  },
  {
   "cell_type": "code",
   "execution_count": 37,
   "id": "097eb443",
   "metadata": {},
   "outputs": [],
   "source": [
    "tensor = torch.load('data/tcga_tensor.pt')\n",
    "genes = np.load(\"data/genes.npy\", allow_pickle=True)\n",
    "patients = np.load(\"data/patients.npy\", allow_pickle=True)\n",
    "sample_types = np.load(\"data/sample_types.npy\", allow_pickle=True)"
   ]
  },
  {
   "cell_type": "code",
   "execution_count": 38,
   "id": "0f8e44fd",
   "metadata": {},
   "outputs": [],
   "source": [
    "mask_bool = ~torch.isnan(tensor)\n",
    "mask_float = mask_bool.float()"
   ]
  },
  {
   "cell_type": "code",
   "execution_count": 39,
   "id": "3b90e44d",
   "metadata": {},
   "outputs": [],
   "source": [
    "# === Simulate Random Missingness (20% randomly masked from observed entries) ===\n",
    "missing_fraction = 0.2\n",
    "mask_train_bool = mask_bool.clone()\n",
    "mask_train_float = mask_float.clone()"
   ]
  },
  {
   "cell_type": "code",
   "execution_count": 40,
   "id": "25e19059",
   "metadata": {},
   "outputs": [],
   "source": [
    "# Get indices of observed entries\n",
    "observed_indices = torch.nonzero(mask_train_bool, as_tuple=False)\n",
    "num_mask = int(len(observed_indices) * missing_fraction)\n",
    "masked_idx = observed_indices[torch.randperm(len(observed_indices))[:num_mask]]"
   ]
  },
  {
   "cell_type": "code",
   "execution_count": 41,
   "id": "6a96f7e0",
   "metadata": {},
   "outputs": [],
   "source": [
    "# Apply masking\n",
    "mask_train_bool[masked_idx[:, 0], masked_idx[:, 1], masked_idx[:, 2]] = False\n",
    "mask_train_float[masked_idx[:, 0], masked_idx[:, 1], masked_idx[:, 2]] = 0.0"
   ]
  },
  {
   "cell_type": "code",
   "execution_count": 42,
   "id": "a00215b7",
   "metadata": {},
   "outputs": [],
   "source": [
    "# Ground truth for evaluation\n",
    "tensor_filled = torch.where(mask_bool, tensor, torch.tensor(0.0, dtype=tensor.dtype))"
   ]
  },
  {
   "cell_type": "code",
   "execution_count": 43,
   "id": "55bdcf12",
   "metadata": {},
   "outputs": [],
   "source": [
    "# === CP Completion Function ===\n",
    "def cp_completion(X_obs, mask, rank=10, n_iter=1000):\n",
    "    weights, factors = parafac(X_obs, rank=rank, n_iter_max=n_iter, mask=mask)\n",
    "    return cp_to_tensor((weights, factors))"
   ]
  },
  {
   "cell_type": "code",
   "execution_count": null,
   "id": "2828c56b",
   "metadata": {},
   "outputs": [],
   "source": [
    "print(\"tensor shape:\", tensor.shape)\n",
    "print(\"mask_train_float shape:\", mask_train_float.shape)\n",
    "print(\"X_obs shape:\", X_obs.shape)\n",
    "print(\"NaNs in X_obs:\", torch.isnan(X_obs).sum().item())\n",
    "print(\"Missing % in mask:\", 1 - mask_train_float.sum().item() / mask_train_float.numel())"
   ]
  },
  {
   "cell_type": "code",
   "execution_count": 44,
   "id": "9ef7439b",
   "metadata": {},
   "outputs": [
    {
     "ename": "RuntimeError",
     "evalue": "[enforce fail at alloc_cpu.cpp:115] data. DefaultCPUAllocator: not enough memory: you tried to allocate 3881618950969600 bytes.",
     "output_type": "error",
     "traceback": [
      "\u001b[31m---------------------------------------------------------------------------\u001b[39m",
      "\u001b[31mRuntimeError\u001b[39m                              Traceback (most recent call last)",
      "\u001b[36mCell\u001b[39m\u001b[36m \u001b[39m\u001b[32mIn[44]\u001b[39m\u001b[32m, line 4\u001b[39m\n\u001b[32m      2\u001b[39m rank = \u001b[32m10\u001b[39m\n\u001b[32m      3\u001b[39m X_obs = torch.where(mask_train_bool, tensor, torch.tensor(\u001b[32m0.0\u001b[39m, dtype=tensor.dtype))\n\u001b[32m----> \u001b[39m\u001b[32m4\u001b[39m X_pred = \u001b[43mcp_completion\u001b[49m\u001b[43m(\u001b[49m\u001b[43mX_obs\u001b[49m\u001b[43m,\u001b[49m\u001b[43m \u001b[49m\u001b[43mmask_train_float\u001b[49m\u001b[43m,\u001b[49m\u001b[43m \u001b[49m\u001b[43mrank\u001b[49m\u001b[43m=\u001b[49m\u001b[43mrank\u001b[49m\u001b[43m)\u001b[49m\n",
      "\u001b[36mCell\u001b[39m\u001b[36m \u001b[39m\u001b[32mIn[43]\u001b[39m\u001b[32m, line 3\u001b[39m, in \u001b[36mcp_completion\u001b[39m\u001b[34m(X_obs, mask, rank, n_iter)\u001b[39m\n\u001b[32m      2\u001b[39m \u001b[38;5;28;01mdef\u001b[39;00m\u001b[38;5;250m \u001b[39m\u001b[34mcp_completion\u001b[39m(X_obs, mask, rank=\u001b[32m10\u001b[39m, n_iter=\u001b[32m1000\u001b[39m):\n\u001b[32m----> \u001b[39m\u001b[32m3\u001b[39m     weights, factors = \u001b[43mparafac\u001b[49m\u001b[43m(\u001b[49m\u001b[43mX_obs\u001b[49m\u001b[43m,\u001b[49m\u001b[43m \u001b[49m\u001b[43mrank\u001b[49m\u001b[43m=\u001b[49m\u001b[43mrank\u001b[49m\u001b[43m,\u001b[49m\u001b[43m \u001b[49m\u001b[43mn_iter_max\u001b[49m\u001b[43m=\u001b[49m\u001b[43mn_iter\u001b[49m\u001b[43m,\u001b[49m\u001b[43m \u001b[49m\u001b[43mmask\u001b[49m\u001b[43m=\u001b[49m\u001b[43mmask\u001b[49m\u001b[43m)\u001b[49m\n\u001b[32m      4\u001b[39m     \u001b[38;5;28;01mreturn\u001b[39;00m cp_to_tensor((weights, factors))\n",
      "\u001b[36mFile \u001b[39m\u001b[32mc:\\Users\\bsand\\Documents\\Homework\\BU\\CS565\\Tensor_Completion_Cancer_RNASeq\\.venv\\Lib\\site-packages\\tensorly\\decomposition\\_cp.py:338\u001b[39m, in \u001b[36mparafac\u001b[39m\u001b[34m(tensor, rank, n_iter_max, init, svd, normalize_factors, orthogonalise, tol, random_state, verbose, return_errors, sparsity, l2_reg, mask, cvg_criterion, fixed_modes, svd_mask_repeats, linesearch, callback)\u001b[39m\n\u001b[32m    335\u001b[39m     acc_fail = \u001b[32m0\u001b[39m  \u001b[38;5;66;03m# How many times acceleration have failed\u001b[39;00m\n\u001b[32m    336\u001b[39m     max_fail = \u001b[32m4\u001b[39m  \u001b[38;5;66;03m# Increase acc_pow with one after max_fail failure\u001b[39;00m\n\u001b[32m--> \u001b[39m\u001b[32m338\u001b[39m weights, factors = \u001b[43minitialize_cp\u001b[49m\u001b[43m(\u001b[49m\n\u001b[32m    339\u001b[39m \u001b[43m    \u001b[49m\u001b[43mtensor\u001b[49m\u001b[43m,\u001b[49m\n\u001b[32m    340\u001b[39m \u001b[43m    \u001b[49m\u001b[43mrank\u001b[49m\u001b[43m,\u001b[49m\n\u001b[32m    341\u001b[39m \u001b[43m    \u001b[49m\u001b[43minit\u001b[49m\u001b[43m=\u001b[49m\u001b[43minit\u001b[49m\u001b[43m,\u001b[49m\n\u001b[32m    342\u001b[39m \u001b[43m    \u001b[49m\u001b[43msvd\u001b[49m\u001b[43m=\u001b[49m\u001b[43msvd\u001b[49m\u001b[43m,\u001b[49m\n\u001b[32m    343\u001b[39m \u001b[43m    \u001b[49m\u001b[43mrandom_state\u001b[49m\u001b[43m=\u001b[49m\u001b[43mrandom_state\u001b[49m\u001b[43m,\u001b[49m\n\u001b[32m    344\u001b[39m \u001b[43m    \u001b[49m\u001b[43mnormalize_factors\u001b[49m\u001b[43m=\u001b[49m\u001b[43mnormalize_factors\u001b[49m\u001b[43m,\u001b[49m\n\u001b[32m    345\u001b[39m \u001b[43m    \u001b[49m\u001b[43mmask\u001b[49m\u001b[43m=\u001b[49m\u001b[43mmask\u001b[49m\u001b[43m,\u001b[49m\n\u001b[32m    346\u001b[39m \u001b[43m    \u001b[49m\u001b[43msvd_mask_repeats\u001b[49m\u001b[43m=\u001b[49m\u001b[43msvd_mask_repeats\u001b[49m\u001b[43m,\u001b[49m\n\u001b[32m    347\u001b[39m \u001b[43m\u001b[49m\u001b[43m)\u001b[49m\n\u001b[32m    349\u001b[39m rec_errors = []\n\u001b[32m    350\u001b[39m norm_tensor = tl.norm(tensor, \u001b[32m2\u001b[39m)\n",
      "\u001b[36mFile \u001b[39m\u001b[32mc:\\Users\\bsand\\Documents\\Homework\\BU\\CS565\\Tensor_Completion_Cancer_RNASeq\\.venv\\Lib\\site-packages\\tensorly\\decomposition\\_cp.py:76\u001b[39m, in \u001b[36minitialize_cp\u001b[39m\u001b[34m(tensor, rank, init, svd, non_negative, random_state, normalize_factors, mask, svd_mask_repeats)\u001b[39m\n\u001b[32m     74\u001b[39m \u001b[38;5;28;01mfor\u001b[39;00m mode \u001b[38;5;129;01min\u001b[39;00m \u001b[38;5;28mrange\u001b[39m(tl.ndim(tensor)):\n\u001b[32m     75\u001b[39m     mask_unfold = \u001b[38;5;28;01mNone\u001b[39;00m \u001b[38;5;28;01mif\u001b[39;00m mask \u001b[38;5;129;01mis\u001b[39;00m \u001b[38;5;28;01mNone\u001b[39;00m \u001b[38;5;28;01melse\u001b[39;00m unfold(mask, mode)\n\u001b[32m---> \u001b[39m\u001b[32m76\u001b[39m     U, S, _ = \u001b[43msvd_interface\u001b[49m\u001b[43m(\u001b[49m\n\u001b[32m     77\u001b[39m \u001b[43m        \u001b[49m\u001b[43munfold\u001b[49m\u001b[43m(\u001b[49m\u001b[43mtensor\u001b[49m\u001b[43m,\u001b[49m\u001b[43m \u001b[49m\u001b[43mmode\u001b[49m\u001b[43m)\u001b[49m\u001b[43m,\u001b[49m\n\u001b[32m     78\u001b[39m \u001b[43m        \u001b[49m\u001b[43mn_eigenvecs\u001b[49m\u001b[43m=\u001b[49m\u001b[43mrank\u001b[49m\u001b[43m,\u001b[49m\n\u001b[32m     79\u001b[39m \u001b[43m        \u001b[49m\u001b[43mmethod\u001b[49m\u001b[43m=\u001b[49m\u001b[43msvd\u001b[49m\u001b[43m,\u001b[49m\n\u001b[32m     80\u001b[39m \u001b[43m        \u001b[49m\u001b[43mnon_negative\u001b[49m\u001b[43m=\u001b[49m\u001b[43mnon_negative\u001b[49m\u001b[43m,\u001b[49m\n\u001b[32m     81\u001b[39m \u001b[43m        \u001b[49m\u001b[43mmask\u001b[49m\u001b[43m=\u001b[49m\u001b[43mmask_unfold\u001b[49m\u001b[43m,\u001b[49m\n\u001b[32m     82\u001b[39m \u001b[43m        \u001b[49m\u001b[43mn_iter_mask_imputation\u001b[49m\u001b[43m=\u001b[49m\u001b[43msvd_mask_repeats\u001b[49m\u001b[43m,\u001b[49m\n\u001b[32m     83\u001b[39m \u001b[43m    \u001b[49m\u001b[43m)\u001b[49m\n\u001b[32m     85\u001b[39m     \u001b[38;5;66;03m# Put SVD initialization on the same scaling as the tensor in case normalize_factors=False\u001b[39;00m\n\u001b[32m     86\u001b[39m     \u001b[38;5;28;01mif\u001b[39;00m mode == \u001b[32m0\u001b[39m:\n",
      "\u001b[36mFile \u001b[39m\u001b[32mc:\\Users\\bsand\\Documents\\Homework\\BU\\CS565\\Tensor_Completion_Cancer_RNASeq\\.venv\\Lib\\site-packages\\tensorly\\tenalg\\svd.py:427\u001b[39m, in \u001b[36msvd_interface\u001b[39m\u001b[34m(matrix, method, n_eigenvecs, flip_sign, u_based_flip_sign, non_negative, mask, n_iter_mask_imputation, **kwargs)\u001b[39m\n\u001b[32m    422\u001b[39m \u001b[38;5;28;01melse\u001b[39;00m:\n\u001b[32m    423\u001b[39m     \u001b[38;5;28;01mraise\u001b[39;00m \u001b[38;5;167;01mValueError\u001b[39;00m(\n\u001b[32m    424\u001b[39m         \u001b[33mf\u001b[39m\u001b[33m\"\u001b[39m\u001b[33mGot svd=\u001b[39m\u001b[38;5;132;01m{\u001b[39;00mmethod\u001b[38;5;132;01m}\u001b[39;00m\u001b[33m. However, the possible choices are \u001b[39m\u001b[38;5;132;01m{\u001b[39;00mSVD_FUNS\u001b[38;5;132;01m}\u001b[39;00m\u001b[33m or to pass a callable.\u001b[39m\u001b[33m\"\u001b[39m\n\u001b[32m    425\u001b[39m     )\n\u001b[32m--> \u001b[39m\u001b[32m427\u001b[39m U, S, V = \u001b[43msvd_fun\u001b[49m\u001b[43m(\u001b[49m\u001b[43mmatrix\u001b[49m\u001b[43m,\u001b[49m\u001b[43m \u001b[49m\u001b[43mn_eigenvecs\u001b[49m\u001b[43m=\u001b[49m\u001b[43mn_eigenvecs\u001b[49m\u001b[43m,\u001b[49m\u001b[43m \u001b[49m\u001b[43m*\u001b[49m\u001b[43m*\u001b[49m\u001b[43mkwargs\u001b[49m\u001b[43m)\u001b[49m\n\u001b[32m    429\u001b[39m \u001b[38;5;28;01mif\u001b[39;00m mask \u001b[38;5;129;01mis\u001b[39;00m \u001b[38;5;129;01mnot\u001b[39;00m \u001b[38;5;28;01mNone\u001b[39;00m \u001b[38;5;129;01mand\u001b[39;00m n_eigenvecs \u001b[38;5;129;01mis\u001b[39;00m \u001b[38;5;129;01mnot\u001b[39;00m \u001b[38;5;28;01mNone\u001b[39;00m:\n\u001b[32m    430\u001b[39m     \u001b[38;5;28;01mfor\u001b[39;00m _ \u001b[38;5;129;01min\u001b[39;00m \u001b[38;5;28mrange\u001b[39m(n_iter_mask_imputation):\n\u001b[32m    431\u001b[39m         \u001b[38;5;66;03m# Workaround to avoid needing fill_diagonal\u001b[39;00m\n",
      "\u001b[36mFile \u001b[39m\u001b[32mc:\\Users\\bsand\\Documents\\Homework\\BU\\CS565\\Tensor_Completion_Cancer_RNASeq\\.venv\\Lib\\site-packages\\tensorly\\tenalg\\svd.py:232\u001b[39m, in \u001b[36mtruncated_svd\u001b[39m\u001b[34m(matrix, n_eigenvecs, **kwargs)\u001b[39m\n\u001b[32m    230\u001b[39m n_eigenvecs, min_dim, _ = svd_checks(matrix, n_eigenvecs=n_eigenvecs)\n\u001b[32m    231\u001b[39m full_matrices = \u001b[38;5;28;01mTrue\u001b[39;00m \u001b[38;5;28;01mif\u001b[39;00m n_eigenvecs > min_dim \u001b[38;5;28;01melse\u001b[39;00m \u001b[38;5;28;01mFalse\u001b[39;00m\n\u001b[32m--> \u001b[39m\u001b[32m232\u001b[39m U, S, V = \u001b[43mtl\u001b[49m\u001b[43m.\u001b[49m\u001b[43msvd\u001b[49m\u001b[43m(\u001b[49m\u001b[43mmatrix\u001b[49m\u001b[43m,\u001b[49m\u001b[43m \u001b[49m\u001b[43mfull_matrices\u001b[49m\u001b[43m=\u001b[49m\u001b[43mfull_matrices\u001b[49m\u001b[43m)\u001b[49m\n\u001b[32m    233\u001b[39m \u001b[38;5;28;01mreturn\u001b[39;00m U[:, :n_eigenvecs], S[:n_eigenvecs], V[:n_eigenvecs, :]\n",
      "\u001b[36mFile \u001b[39m\u001b[32mc:\\Users\\bsand\\Documents\\Homework\\BU\\CS565\\Tensor_Completion_Cancer_RNASeq\\.venv\\Lib\\site-packages\\tensorly\\backend\\__init__.py:202\u001b[39m, in \u001b[36mBackendManager.dispatch_backend_method.<locals>.wrapped_backend_method\u001b[39m\u001b[34m(*args, **kwargs)\u001b[39m\n\u001b[32m    198\u001b[39m \u001b[38;5;28;01mdef\u001b[39;00m\u001b[38;5;250m \u001b[39m\u001b[34mwrapped_backend_method\u001b[39m(*args, **kwargs):\n\u001b[32m    199\u001b[39m \u001b[38;5;250m    \u001b[39m\u001b[33;03m\"\"\"A dynamically dispatched method\u001b[39;00m\n\u001b[32m    200\u001b[39m \n\u001b[32m    201\u001b[39m \u001b[33;03m    Returns the queried method from the currently set backend\"\"\"\u001b[39;00m\n\u001b[32m--> \u001b[39m\u001b[32m202\u001b[39m     \u001b[38;5;28;01mreturn\u001b[39;00m \u001b[38;5;28;43mgetattr\u001b[39;49m\u001b[43m(\u001b[49m\n\u001b[32m    203\u001b[39m \u001b[43m        \u001b[49m\u001b[38;5;28;43mcls\u001b[39;49m\u001b[43m.\u001b[49m\u001b[43m_THREAD_LOCAL_DATA\u001b[49m\u001b[43m.\u001b[49m\u001b[34;43m__dict__\u001b[39;49m\u001b[43m.\u001b[49m\u001b[43mget\u001b[49m\u001b[43m(\u001b[49m\u001b[33;43m\"\u001b[39;49m\u001b[33;43mbackend\u001b[39;49m\u001b[33;43m\"\u001b[39;49m\u001b[43m,\u001b[49m\u001b[43m \u001b[49m\u001b[38;5;28;43mcls\u001b[39;49m\u001b[43m.\u001b[49m\u001b[43m_backend\u001b[49m\u001b[43m)\u001b[49m\u001b[43m,\u001b[49m\u001b[43m \u001b[49m\u001b[43mname\u001b[49m\n\u001b[32m    204\u001b[39m \u001b[43m    \u001b[49m\u001b[43m)\u001b[49m\u001b[43m(\u001b[49m\u001b[43m*\u001b[49m\u001b[43margs\u001b[49m\u001b[43m,\u001b[49m\u001b[43m \u001b[49m\u001b[43m*\u001b[49m\u001b[43m*\u001b[49m\u001b[43mkwargs\u001b[49m\u001b[43m)\u001b[49m\n",
      "\u001b[31mRuntimeError\u001b[39m: [enforce fail at alloc_cpu.cpp:115] data. DefaultCPUAllocator: not enough memory: you tried to allocate 3881618950969600 bytes."
     ]
    }
   ],
   "source": [
    "# === Run Completion ===\n",
    "rank = 10\n",
    "X_obs = torch.where(mask_train_bool, tensor, torch.tensor(0.0, dtype=tensor.dtype))\n",
    "X_pred = cp_completion(X_obs, mask_train_float, rank=rank)"
   ]
  },
  {
   "cell_type": "code",
   "execution_count": null,
   "id": "0ce08341",
   "metadata": {},
   "outputs": [],
   "source": [
    "# === Evaluate Performance ===\n",
    "def evaluate(true_tensor, pred_tensor, eval_mask):\n",
    "    true_vals = true_tensor[eval_mask]\n",
    "    pred_vals = pred_tensor[eval_mask]\n",
    "    rmse = torch.sqrt(torch.mean((true_vals - pred_vals) ** 2)).item()\n",
    "    mae = torch.mean(torch.abs(true_vals - pred_vals)).item()\n",
    "    return rmse, mae"
   ]
  },
  {
   "cell_type": "code",
   "execution_count": null,
   "id": "b6601606",
   "metadata": {},
   "outputs": [],
   "source": [
    "rmse, mae = evaluate(tensor, X_pred, ~mask_train_bool & mask_bool)\n",
    "print(f\"\\nEvaluation on masked entries:\\nRMSE: {rmse:.4f}\\nMAE: {mae:.4f}\")"
   ]
  }
 ],
 "metadata": {
  "kernelspec": {
   "display_name": ".venv",
   "language": "python",
   "name": "python3"
  },
  "language_info": {
   "codemirror_mode": {
    "name": "ipython",
    "version": 3
   },
   "file_extension": ".py",
   "mimetype": "text/x-python",
   "name": "python",
   "nbconvert_exporter": "python",
   "pygments_lexer": "ipython3",
   "version": "3.12.2"
  }
 },
 "nbformat": 4,
 "nbformat_minor": 5
}
