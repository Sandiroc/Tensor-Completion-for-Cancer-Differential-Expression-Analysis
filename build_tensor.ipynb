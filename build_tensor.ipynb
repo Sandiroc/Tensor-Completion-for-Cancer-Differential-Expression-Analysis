{
 "cells": [
  {
   "cell_type": "code",
   "execution_count": 20,
   "id": "aef4465c",
   "metadata": {},
   "outputs": [],
   "source": [
    "import os\n",
    "import pandas as pd\n",
    "import numpy as np\n",
    "import torch\n",
    "from collections import defaultdict"
   ]
  },
  {
   "cell_type": "code",
   "execution_count": 21,
   "id": "c117de91",
   "metadata": {},
   "outputs": [],
   "source": [
    "tcga_dir = \"tcga_data\""
   ]
  },
  {
   "cell_type": "code",
   "execution_count": 22,
   "id": "9f1fc032",
   "metadata": {},
   "outputs": [],
   "source": [
    "# collect data\n",
    "sample_dict = defaultdict(dict)\n",
    "all_genes = None\n",
    "sample_type_labels = set()"
   ]
  },
  {
   "cell_type": "code",
   "execution_count": 23,
   "id": "ac973c61",
   "metadata": {},
   "outputs": [
    {
     "name": "stdout",
     "output_type": "stream",
     "text": [
      "Reference gene list initialized from: TCGA-05-4244-01A-01R-1107-07\n"
     ]
    }
   ],
   "source": [
    "for root, dirs, files in os.walk(tcga_dir):\n",
    "    for file in files:\n",
    "        if file.startswith('.'):\n",
    "            continue  # skip hidden/system files\n",
    "\n",
    "        full_path = os.path.join(root, file).replace(\"\\\\\", \"/\")\n",
    "        parts = file.split(\"-\")\n",
    "\n",
    "        if len(parts) < 4:\n",
    "            print(f\"Skipping malformed filename: {file}\")\n",
    "            continue\n",
    "\n",
    "        patient_id = \"-\".join(parts[:3])   # e.g., TCGA-05-4244\n",
    "        sample_type = parts[3][:2]         # e.g., 01 = primary tumor, 11 = normal\n",
    "        sample_type_labels.add(sample_type)\n",
    "\n",
    "        try:\n",
    "            # Read as tab-delimited with no header\n",
    "            df = pd.read_csv(full_path, sep=\"\\t\", header=None)\n",
    "\n",
    "            if df.shape[1] != 2:\n",
    "                print(f\"Unexpected format in: {file}, skipping.\")\n",
    "                continue\n",
    "\n",
    "            df.columns = ['gene_id', 'expression']\n",
    "            df = df.set_index('gene_id')\n",
    "            df.index = df.index.str.strip()\n",
    "\n",
    "            # First successful file sets the gene order\n",
    "            if all_genes is None:\n",
    "                all_genes = df.index.tolist()\n",
    "                print(f\"Reference gene list initialized from: {file}\")\n",
    "            elif not df.index.equals(pd.Index(all_genes)):\n",
    "                print(f\"Gene list mismatch in {file}, skipping.\")\n",
    "                continue\n",
    "\n",
    "            sample_dict[patient_id][sample_type] = df['expression'].values\n",
    "\n",
    "        except Exception as e:\n",
    "            print(f\"Failed to parse {file}: {e}\")\n",
    "            continue"
   ]
  },
  {
   "cell_type": "code",
   "execution_count": 24,
   "id": "f8412c53",
   "metadata": {},
   "outputs": [],
   "source": [
    "if all_genes is None:\n",
    "    raise ValueError(\"No valid files found to build tensor. Check file format or path.\")\n",
    "\n",
    "genes = all_genes\n",
    "patients = sorted(sample_dict.keys())\n",
    "sample_types = sorted(sample_type_labels)\n",
    "\n",
    "# Index maps\n",
    "gene_idx = {g: i for i, g in enumerate(genes)}\n",
    "patient_idx = {p: i for i, p in enumerate(patients)}\n",
    "sample_type_idx = {s: i for i, s in enumerate(sample_types)}"
   ]
  },
  {
   "cell_type": "code",
   "execution_count": 25,
   "id": "fa1ae550",
   "metadata": {},
   "outputs": [],
   "source": [
    "tensor_data = np.full((len(genes), len(patients), len(sample_types)), np.nan)\n",
    "\n",
    "for pid in patients:\n",
    "    for stype, expr in sample_dict[pid].items():\n",
    "        p_idx = patient_idx[pid]\n",
    "        s_idx = sample_type_idx[stype]\n",
    "        tensor_data[:, p_idx, s_idx] = expr\n"
   ]
  },
  {
   "cell_type": "code",
   "execution_count": 26,
   "id": "1130c8e0",
   "metadata": {},
   "outputs": [],
   "source": [
    "tensor = torch.tensor(tensor_data, dtype=torch.float32)"
   ]
  },
  {
   "cell_type": "code",
   "execution_count": 27,
   "id": "aa48f616",
   "metadata": {},
   "outputs": [
    {
     "name": "stdout",
     "output_type": "stream",
     "text": [
      "Tensor shape: torch.Size([60488, 515, 2])\n",
      "Genes: 60488\n",
      "Patients: 515\n",
      "Sample types: ['01', '11']\n"
     ]
    }
   ],
   "source": [
    "print(f\"Tensor shape: {tensor.shape}\")\n",
    "print(f\"Genes: {len(genes)}\")\n",
    "print(f\"Patients: {len(patients)}\")\n",
    "print(f\"Sample types: {sample_types}\")"
   ]
  },
  {
   "cell_type": "code",
   "execution_count": null,
   "id": "d9dc6a31",
   "metadata": {},
   "outputs": [],
   "source": [
    "torch.save(tensor, \"tcga_tensor_by_sample_type.pt\")"
   ]
  }
 ],
 "metadata": {
  "kernelspec": {
   "display_name": ".venv",
   "language": "python",
   "name": "python3"
  },
  "language_info": {
   "codemirror_mode": {
    "name": "ipython",
    "version": 3
   },
   "file_extension": ".py",
   "mimetype": "text/x-python",
   "name": "python",
   "nbconvert_exporter": "python",
   "pygments_lexer": "ipython3",
   "version": "3.12.2"
  }
 },
 "nbformat": 4,
 "nbformat_minor": 5
}
